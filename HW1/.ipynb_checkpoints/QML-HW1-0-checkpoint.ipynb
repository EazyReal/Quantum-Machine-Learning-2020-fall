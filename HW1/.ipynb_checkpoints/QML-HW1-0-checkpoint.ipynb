{
 "cells": [
  {
   "cell_type": "markdown",
   "metadata": {},
   "source": [
    "# HW1\n",
    "- 0712238 Yan-Tong Lin"
   ]
  },
  {
   "cell_type": "code",
   "execution_count": 5,
   "metadata": {},
   "outputs": [],
   "source": [
    "import numpy as np\n",
    "import matplotlib.pyplot as plt\n",
    "import abc"
   ]
  },
  {
   "cell_type": "markdown",
   "metadata": {},
   "source": [
    "## P2, use simulation"
   ]
  },
  {
   "cell_type": "code",
   "execution_count": 6,
   "metadata": {},
   "outputs": [],
   "source": [
    "class Env(metaclass=abc.ABCMeta):\n",
    "    @abc.abstractmethod\n",
    "    def get_r():\n",
    "        return NotImplemented"
   ]
  },
  {
   "cell_type": "code",
   "execution_count": 7,
   "metadata": {},
   "outputs": [],
   "source": [
    "class Q23(Env):\n",
    "    def __init__(self):\n",
    "        self.r = np.ones((1, 2), dtype=np.float64)\n",
    "    def get_r(self, s: int, a: int):\n",
    "        return self.r[s][a]"
   ]
  },
  {
   "cell_type": "code",
   "execution_count": 8,
   "metadata": {},
   "outputs": [],
   "source": [
    "class PSAgent():\n",
    "    def __init__(self, n_s: int, n_a: int, gamma: float = 0.0, eta: float = 1.0):\n",
    "        \"\"\"\n",
    "        init a naive PS agent with only state and action clips\n",
    "        default gamma = 0.0 (no forgetting)\n",
    "        default eta = 1.0 (no glowing)\n",
    "        \"\"\"\n",
    "        # params\n",
    "        self.n_s = n_s\n",
    "        self.n_a = n_a\n",
    "        self.gamma = gamma\n",
    "        self.eta = eta\n",
    "        # initialize g, h\n",
    "        self.h = np.ones((self.n_s, self.n_a), dtype=np.float64)\n",
    "        self.g = np.zeros((self.n_s, self.n_a), dtype=np.float64)\n",
    "    \n",
    "    def update(self, s: int, a: int, r: int):\n",
    "        # produce an action and get a reward from the environment\n",
    "        self.g = (1.-self.eta)*self.g\n",
    "        self.g[s][a] = 1.\n",
    "        self.h = self.h - self.gamma*(self.h-1) + self.g*r\n",
    "    \n",
    "    def get_p(self, s):\n",
    "        h_s = self.h[s]\n",
    "        p_s = h_s / np.sum(h_s)\n",
    "        return p_s\n",
    "    \n",
    "    def act(self, s):\n",
    "        return np.random.choice(self.n_a, p=self.get_p(s))"
   ]
  },
  {
   "cell_type": "code",
   "execution_count": 9,
   "metadata": {},
   "outputs": [],
   "source": [
    "def simulate(T: int = 1000):\n",
    "    \"\"\"\n",
    "    env: Env, agent: PSAgent, for scalibility if required\n",
    "    \"\"\"\n",
    "    agent = PSAgent(1, 2)\n",
    "    env = Q23()\n",
    "    state = 0\n",
    "    for i in range(T):\n",
    "        action = agent.act(state)\n",
    "        reward = env.get_r(state, action)\n",
    "        agent.update(state, action, reward)\n",
    "        #print(agent.h)\n",
    "    return agent"
   ]
  },
  {
   "cell_type": "code",
   "execution_count": 10,
   "metadata": {},
   "outputs": [
    {
     "data": {
      "image/png": "[encoded data removed]",
      "text/plain": [
       "<Figure size 432x288 with 1 Axes>"
      ]
     },
     "metadata": {
      "needs_background": "light"
     },
     "output_type": "display_data"
    }
   ],
   "source": [
    "def get_distribution_of_hs(T: int = 1000):\n",
    "    \"\"\"\n",
    "    to plot a histogram of each \n",
    "    \"\"\"\n",
    "    x = []\n",
    "    for i in range(T):\n",
    "        ag = simulate()\n",
    "        x += [ag.h[0][0]]\n",
    "    plt.hist(x, bins = 100)\n",
    "    plt.show()\n",
    "    return x\n",
    "\n",
    "get_distribution_of_hs()"
   ]
  },
  {
   "cell_type": "code",
   "execution_count": 20,
   "metadata": {
    "scrolled": false
   },
   "outputs": [
    {
     "data": {
      "image/png": "[encoded data removed]",
      "text/plain": [
       "<Figure size 432x288 with 1 Axes>"
      ]
     },
     "metadata": {
      "needs_background": "light"
     },
     "output_type": "display_data"
    }
   ],
   "source": [
    "def get_distribution_of_hs(T: int = 100):\n",
    "    \"\"\"\n",
    "    to plot a histogram of each \n",
    "    \"\"\"\n",
    "    x = []\n",
    "    for i in range(T):\n",
    "        ag = simulate(100)\n",
    "        x += [ag.h[0][0]]\n",
    "    plt.hist(x, bins = 30)\n",
    "    plt.show()\n",
    "    return x\n",
    "x = get_distribution_of_hs()"
   ]
  },
  {
   "cell_type": "code",
   "execution_count": 29,
   "metadata": {},
   "outputs": [
    {
     "data": {
      "text/plain": [
       "array([0.84431138, 0.15568862])"
      ]
     },
     "execution_count": 29,
     "metadata": {},
     "output_type": "execute_result"
    }
   ],
   "source": [
    "ag = simulate()\n",
    "ag.get_p(0)"
   ]
  },
  {
   "cell_type": "code",
   "execution_count": 30,
   "metadata": {},
   "outputs": [],
   "source": [
    "# testing correctness of code\n",
    "def test():\n",
    "    q23 = Q23()\n",
    "    print(q23.get_r(0, 0))\n",
    "    ps = PSAgent(2, 2)\n",
    "    print(ps.h)\n",
    "    for i in range(100):\n",
    "        ps.update(0, 0, 1)\n",
    "    print(ps.h)\n",
    "    print(ps.get_p(0), ps.get_p(1))"
   ]
  },
  {
   "cell_type": "markdown",
   "metadata": {},
   "source": [
    "## P2, use dynamic programming\n",
    "- let $P(i, j)$ be $Pr(\\text{do i+j-2 times and end up with } h_{0,0}=i,h_{0,1}=j )$\n",
    "- $P(1,1) = 1$\n",
    "- $P(a,b) = \\frac{a-1}{a+b-1}P(a-1, b) + \\frac{b-1}{a+b-1}P(a, b-1)$"
   ]
  },
  {
   "cell_type": "code",
   "execution_count": 85,
   "metadata": {},
   "outputs": [],
   "source": [
    "def DP(n):\n",
    "    dp = np.zeros((n, n), dtype=np.float64)\n",
    "    dp[1][1] = 1\n",
    "    for i in range(1, n):\n",
    "        for j in range(1, n):\n",
    "            if(i == 1 and j == 1):\n",
    "                continue\n",
    "            dp[i][j] = (i-1)*1.0/(i+j-1)*dp[i-1][j] + (j-1)*1.0/(i+j-1)*dp[i][j-1]\n",
    "    return dp"
   ]
  },
  {
   "cell_type": "code",
   "execution_count": 86,
   "metadata": {},
   "outputs": [],
   "source": [
    "dp = DP(101)"
   ]
  },
  {
   "cell_type": "code",
   "execution_count": 105,
   "metadata": {},
   "outputs": [
    {
     "data": {
      "image/png": "[encoded data removed]",
      "text/plain": [
       "<Figure size 432x288 with 1 Axes>"
      ]
     },
     "metadata": {
      "needs_background": "light"
     },
     "output_type": "display_data"
    }
   ],
   "source": [
    "x = []\n",
    "for i in range(1, 101):\n",
    "    x += [dp[i][101-i]]\n",
    "    # print(i, dp[i][50-i])\n",
    "#x = np.array(x)\n",
    "plt.title(\"$h_0$-prob when n = 101\")\n",
    "plt.xlabel('$h_0$ value')\n",
    "plt.ylabel('probability')\n",
    "plt.plot(x, label='case 1')\n",
    "plt.plot(x2, label='case 2')\n",
    "plt.legend()\n",
    "plt.show()"
   ]
  },
  {
   "cell_type": "markdown",
   "metadata": {},
   "source": [
    "This shows that it is of uniform distribution!!!"
   ]
  },
  {
   "cell_type": "markdown",
   "metadata": {},
   "source": [
    "## P3, use DP\n",
    "- let $P(i, j)$ be $Pr(\\text{do i+j-3 times and end up with } h_{0,0}=i,h_{0,1}=j )$\n",
    "- $P(1,2) = 1$\n",
    "- $P(a,b) = \\frac{a-1}{a+b-1}P(a-1, b) + \\frac{b-1}{a+b-1}P(a, b-1)$"
   ]
  },
  {
   "cell_type": "code",
   "execution_count": 78,
   "metadata": {},
   "outputs": [],
   "source": [
    "def DP2(n):\n",
    "    dp = np.zeros((n, n), dtype=np.float64)\n",
    "    dp[1][2] = 1\n",
    "    for i in range(1, n):\n",
    "        for j in range(2, n):\n",
    "            if(i == 1 and j == 2):\n",
    "                continue\n",
    "            dp[i][j] = (i-1)*1.0/(i+j-1)*dp[i-1][j] + (j-1)*1.0/(i+j-1)*dp[i][j-1]\n",
    "    return dp"
   ]
  },
  {
   "cell_type": "code",
   "execution_count": 79,
   "metadata": {},
   "outputs": [],
   "source": [
    "dp2 = DP2(101)"
   ]
  },
  {
   "cell_type": "code",
   "execution_count": 95,
   "metadata": {},
   "outputs": [
    {
     "data": {
      "image/png": "[encoded data removed]",
      "text/plain": [
       "<Figure size 432x288 with 1 Axes>"
      ]
     },
     "metadata": {
      "needs_background": "light"
     },
     "output_type": "display_data"
    }
   ],
   "source": [
    "x2 = []\n",
    "for i in range(1, 101):\n",
    "    x2 += [dp2[i][101-i]]\n",
    "    # print(i, dp[i][50-i])\n",
    "x2 = np.array(x2)\n",
    "#x = x.T\n",
    "plt.plot(x2)\n",
    "plt.xlabel('h_0 value')\n",
    "plt.ylabel('probability')\n",
    "plt.show()"
   ]
  },
  {
   "cell_type": "code",
   "execution_count": 92,
   "metadata": {},
   "outputs": [
    {
     "name": "stdout",
     "output_type": "stream",
     "text": [
      "33.66666666666665\n"
     ]
    }
   ],
   "source": [
    "exp2 = 0\n",
    "for i in range(1, 101):\n",
    "    exp2 += x2[i-1]*i\n",
    "print(exp2)"
   ]
  },
  {
   "cell_type": "code",
   "execution_count": 89,
   "metadata": {},
   "outputs": [
    {
     "name": "stdout",
     "output_type": "stream",
     "text": [
      "50.5\n"
     ]
    }
   ],
   "source": [
    "exp1 = 0\n",
    "for i in range(1, 101):\n",
    "    exp1 += x[i-1]*i\n",
    "print(exp1)"
   ]
  },
  {
   "cell_type": "markdown",
   "metadata": {},
   "source": [
    "## P4 \n",
    "<img src=\"https://i.imgur.com/YR8mxyM.png\">"
   ]
  },
  {
   "cell_type": "code",
   "execution_count": 248,
   "metadata": {},
   "outputs": [],
   "source": [
    "class GridWorld(Env):\n",
    "    def __init__(self):\n",
    "        \"\"\"\n",
    "        (0,0) is top left\n",
    "        b = {(0,0), (0,1), ...}\n",
    "        a = {up, down, left, right}\n",
    "        \"\"\"\n",
    "        self.r = np.zeros((54, 4), dtype=np.float64)\n",
    "        self.r[17][0] = 1. # only state (1,8) with index 8 + action up is of reward 1\n",
    "        self.nogo = np.zeros((6,9))\n",
    "        self.dx = [-1, 1, 0, 0]\n",
    "        self.dy = [0, 0, -1, 1]\n",
    "        obstacles = [(1,2), (2,2), (3,2), (4,5), (0,7), (1, 7), (2,7)]\n",
    "        for obs in obstacles:\n",
    "            self.nogo[obs[0]][obs[1]] = 1\n",
    "    \n",
    "    def to_xy(self, idx):\n",
    "        return [idx//9, idx%9]\n",
    "    \n",
    "    def to_idx(self, xy):\n",
    "        return xy[0]*9+xy[1]\n",
    "    def ok(self, xy):\n",
    "        return xy[0] >= 0 and xy[0] < 6 and xy[1] >= 0 and xy[1] < 9 and (not self.nogo[xy[0]][xy[1]])\n",
    "    \n",
    "    def get_r(self, s: int, a: int):\n",
    "        return self.r[s][a]\n",
    "    def get_next_s(self, s: int, a: int):\n",
    "        xy = self.to_xy(s)\n",
    "        nxy = (xy[0]+self.dx[a], xy[1]+self.dy[a])\n",
    "        if self.ok(nxy):\n",
    "            return self.to_idx(nxy)\n",
    "        else:\n",
    "            return self.to_idx(xy)"
   ]
  },
  {
   "cell_type": "code",
   "execution_count": 247,
   "metadata": {},
   "outputs": [],
   "source": [
    "def sim_grid(agent, env, T=100):\n",
    "    \"\"\"\n",
    "    starting state is 0, ending state is always 8\n",
    "    \"\"\"\n",
    "    for i in range(T):\n",
    "        state = 18\n",
    "        while state != 8:\n",
    "            action = agent.act(state)\n",
    "            reward = env.get_r(state, action)\n",
    "            next_state = env.get_next_s(state, action)\n",
    "            agent.update(state, action, reward)\n",
    "            state = next_state\n",
    "    # the agent is trained T step after the function call\n",
    "    return\n",
    "\n",
    "def show_policy(h, nogo=None):\n",
    "    \"\"\"\n",
    "    0 up, 1 down, 2 left, 3 right\n",
    "    \"\"\"\n",
    "    policy = np.argmax(h, axis=1).reshape(6,9)\n",
    "    char_policy = [['' for j in range(9)] for i in range(6)]\n",
    "    arrows = [u\"\\u2191\", u\"\\u2193\", u\"\\u2190\", u\"\\u2192\"]\n",
    "    for i in range(6):\n",
    "        for j in range(9):\n",
    "            if nogo is not None and nogo[i][j]:\n",
    "                char_policy[i][j] = 'x'\n",
    "            else: \n",
    "                char_policy[i][j] = arrows[policy[i][j]]\n",
    "    for i in range(6):\n",
    "        for j in range(9):\n",
    "            print(char_policy[i][j], end=\" \")\n",
    "        print()\n",
    "    return policy"
   ]
  },
  {
   "cell_type": "code",
   "execution_count": 246,
   "metadata": {},
   "outputs": [
    {
     "name": "stdout",
     "output_type": "stream",
     "text": [
      "[[0 0 0 0 0 0 0 1 0]\n",
      " [0 0 1 0 0 0 0 1 0]\n",
      " [0 0 1 0 0 0 0 1 0]\n",
      " [0 0 1 0 0 0 0 0 0]\n",
      " [0 0 0 0 0 1 0 0 0]\n",
      " [0 0 0 0 0 0 0 0 0]]\n",
      "→ → → → ↓ ↓ ↓ x ↑ \n",
      "↑ ↑ x → ↓ → ↓ x ↑ \n",
      "↑ ↓ x → → → ↓ x ↑ \n",
      "→ ↓ x → → → → → ↑ \n",
      "→ → → ↑ ↑ x → → ↑ \n",
      "→ → → ↑ → → ↑ → ↑ \n"
     ]
    }
   ],
   "source": [
    "env = GridWorld()\n",
    "agent = PSAgent(54, 4, 0.0, eta=.1)\n",
    "print(np.array(env.nogo, dtype=int))\n",
    "sim_grid(agent, env, T=100)\n",
    "pi = show_policy(agent.h, env.nogo)"
   ]
  },
  {
   "cell_type": "code",
   "execution_count": 250,
   "metadata": {},
   "outputs": [
    {
     "name": "stdout",
     "output_type": "stream",
     "text": [
      "[[0 0 0 0 0 0 0 1 0]\n",
      " [0 0 1 0 0 0 0 1 0]\n",
      " [0 0 1 0 0 0 0 1 0]\n",
      " [0 0 1 0 0 0 0 0 0]\n",
      " [0 0 0 0 0 1 0 0 0]\n",
      " [0 0 0 0 0 0 0 0 0]]\n",
      "→ → → → → ↓ ↓ x ↑ \n",
      "→ ↑ x ↓ ↓ ↓ ↓ x ↑ \n",
      "↓ ↓ x → → ↓ ↓ x ↑ \n",
      "↓ ↓ x → → → → → ↑ \n",
      "→ → → → ↑ x ↑ ↑ ↑ \n",
      "→ → → ↑ ↑ → → ↑ ↑ \n"
     ]
    }
   ],
   "source": [
    "env = GridWorld()\n",
    "agent = PSAgent(54, 4, gamma=0.0, eta=.1)\n",
    "print(np.array(env.nogo, dtype=int))\n",
    "sim_grid(agent, env, T=1000)\n",
    "pi = show_policy(agent.h, env.nogo)"
   ]
  },
  {
   "cell_type": "code",
   "execution_count": 252,
   "metadata": {},
   "outputs": [
    {
     "name": "stdout",
     "output_type": "stream",
     "text": [
      "[[0 0 0 0 0 0 0 1 0]\n",
      " [0 0 1 0 0 0 0 1 0]\n",
      " [0 0 1 0 0 0 0 1 0]\n",
      " [0 0 1 0 0 0 0 0 0]\n",
      " [0 0 0 0 0 1 0 0 0]\n",
      " [0 0 0 0 0 0 0 0 0]]\n",
      "→ → → → ↓ ↓ ↓ x ↑ \n",
      "→ ↓ x ↓ → ↓ ↓ x ↑ \n",
      "→ ↓ x ↓ → ↓ ↓ x ↑ \n",
      "↓ ↓ x → → → → → ↑ \n",
      "→ → → → ↑ x ↑ → ↑ \n",
      "↑ → ↑ ↑ ↑ → → → ↑ \n"
     ]
    }
   ],
   "source": [
    "env = GridWorld()\n",
    "agent = PSAgent(54, 4, gamma=0.0, eta=.2)\n",
    "print(np.array(env.nogo, dtype=int))\n",
    "sim_grid(agent, env, T=100)\n",
    "pi = show_policy(agent.h, env.nogo)"
   ]
  },
  {
   "cell_type": "code",
   "execution_count": null,
   "metadata": {},
   "outputs": [],
   "source": []
  }
 ],
 "metadata": {
  "kernelspec": {
   "display_name": "Python 3",
   "language": "python",
   "name": "python3"
  },
  "language_info": {
   "codemirror_mode": {
    "name": "ipython",
    "version": 3
   },
   "file_extension": ".py",
   "mimetype": "text/x-python",
   "name": "python",
   "nbconvert_exporter": "python",
   "pygments_lexer": "ipython3",
   "version": "3.8.7"
  }
 },
 "nbformat": 4,
 "nbformat_minor": 4
}
