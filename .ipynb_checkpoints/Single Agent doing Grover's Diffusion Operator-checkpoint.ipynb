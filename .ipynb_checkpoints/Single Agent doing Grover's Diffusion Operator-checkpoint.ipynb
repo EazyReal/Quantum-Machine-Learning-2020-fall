{
 "cells": [
  {
   "cell_type": "code",
   "execution_count": 16,
   "metadata": {},
   "outputs": [
    {
     "data": {
      "text/plain": [
       "{'qiskit-terra': '0.16.1',\n",
       " 'qiskit-aer': '0.7.2',\n",
       " 'qiskit-ignis': '0.5.1',\n",
       " 'qiskit-ibmq-provider': '0.11.1',\n",
       " 'qiskit-aqua': '0.8.1',\n",
       " 'qiskit': '0.23.2'}"
      ]
     },
     "execution_count": 16,
     "metadata": {},
     "output_type": "execute_result"
    }
   ],
   "source": [
    "import qiskit\n",
    "qiskit.__qiskit_version__"
   ]
  },
  {
   "cell_type": "code",
   "execution_count": 17,
   "metadata": {},
   "outputs": [],
   "source": [
    "# -*- coding: utf-8 -*-\n",
    "\"\"\"\n",
    "Copyright 2018 Alexey Melnikov and Katja Ried.\n",
    "\n",
    "Licensed under the Apache License, Version 2.0 (the \"License\"); you may not use this file except in compliance with the License.\n",
    "\n",
    "Please acknowledge the authors when re-using this code and maintain this notice intact.\n",
    "Code written by Alexey Melnikov and Katja Ried, implementing ideas from \n",
    "\n",
    "'Projective simulation with generalization'\n",
    "Alexey A. Melnikov, Adi Makmal, Vedran Dunjko & Hans J. Briegel\n",
    "Scientific Reports 7, Article number: 14430 (2017) doi:10.1038/s41598-017-14740-y\n",
    "\"\"\"\n",
    "\n",
    "\"\"\"\n",
    "Copyright 2021 Yan-Tong Lin.\n",
    "Licensed under the Apache License, Version 2.0 (the \"License\"); you may not use this file except in compliance with the License.\n",
    "Please acknowledge the authors when re-using this code and maintain this notice intact.\n",
    "\n",
    "This is a brand new environment created by Yan-Tong Lin based on the project above.\n",
    "\"\"\"\n",
    "\n",
    "#This code requires the following packages\n",
    "import numpy as np\n",
    "from qiskit import QuantumCircuit\n",
    "from qiskit.circuit.library import *\n",
    "from qiskit import Aer\n",
    "from qiskit import execute\n",
    "\n",
    "\"\"\"\n",
    "example of env_config\n",
    "n_qubit = 2\n",
    "allowed_gates = [\n",
    "    (HGate, [0]),\n",
    "    (HGate, [1]),\n",
    "    (XGate, [0]),\n",
    "    (XGate, [1]),\n",
    "    (ZGate, [0]),\n",
    "    (ZGate, [1]),\n",
    "    (CXGate, [0,1]),\n",
    "]\n",
    "target_circuit = QuantumCircuit(n_qubit)\n",
    "target_circuit.h([0,1])\n",
    "target_circuit.z([0,1])\n",
    "target_circuit.cz(0,1)\n",
    "target_circuit.h([0,1])\n",
    "env_config = (n_qubit, allowed_gates, target_circuit)\n",
    "\"\"\"\n",
    "\n",
    "\n",
    "class TaskEnvironment(object):\n",
    "    \"\"\"\n",
    "    Quantum Circuit Synthesis Experiment Enviraonment for QML 2020 fall @ Taiwan \n",
    "    \"\"\"\n",
    "    \n",
    "    def __init__ (self, config):\n",
    "        \"\"\"\n",
    "        config = (n_qubit, allowed_gates, target_circuit)\n",
    "        n_qubit: int\n",
    "        allowed_gates: List[Gate, [bits]]\n",
    "        target_circuit: QuantumCircuit\n",
    "        \"\"\"\n",
    "        n_qubit, allowed_gates, target_circuit = config\n",
    "        self.n_qubit = n_qubit\n",
    "        self.max_steps_per_trial = 10**4\n",
    "        # self.num_percepts_list = dimensions\n",
    "        self.current_circuit = QuantumCircuit(self.n_qubit) \n",
    "        self.target_circuit = target_circuit\n",
    "        # Reward is specified by checking equivelance of two circuits --- current and target\n",
    "        self.act_list = allowed_gates\n",
    "        #The first entry refers to forbidden x moves, the second to y.\n",
    "        self.num_actions = len(self.act_list)\n",
    "    \n",
    "    def reset(self):\n",
    "        self.current_circuit = QuantumCircuit(self.n_qubit) \n",
    "        return self.current_circuit.qasm(formatted=False)\n",
    "    \n",
    "    def move(self,action_index):\n",
    "        \"\"\"Given the agent's action index (int 0-3), returns the new position, reward and trial_finished.\"\"\"\n",
    "        #test whether the action is permissible   \n",
    "        action = self.act_list[action_index]\n",
    "        #Do the Action\n",
    "        gate, applied = action\n",
    "        self.current_circuit.append(gate(), applied) # gate() is to instantialize a object from a gate class\n",
    "        #Test if has reward \n",
    "        backend_sim = Aer.get_backend('unitary_simulator')\n",
    "        job_sim = execute([self.current_circuit, self.target_circuit], backend_sim)\n",
    "        result_sim = job_sim.result()\n",
    "        current_unitary = result_sim.get_unitary(self.current_circuit)\n",
    "        target_unitary = result_sim.get_unitary(self.target_circuit)\n",
    "        reward = 1 if (abs(current_unitary-target_unitary) < 1e-5).all() else 0\n",
    "        trial_finished = False\n",
    "        if reward == 1:  #reset to origin to avoid agent hanging around target all the time\n",
    "            self.current_circuit = QuantumCircuit(self.n_qubit) \n",
    "            trial_finished = True\n",
    "        return self.current_circuit.qasm(formatted=False), reward, trial_finished\n",
    "\n",
    "    def get_circuit(self):\n",
    "        return self.current_circuit\n",
    "        "
   ]
  },
  {
   "cell_type": "code",
   "execution_count": 18,
   "metadata": {},
   "outputs": [],
   "source": [
    "# -*- coding: utf-8 -*-\n",
    "\"\"\"\n",
    "Copyright 2018 Alexey Melnikov and Katja Ried.\n",
    "Licensed under the Apache License, Version 2.0 (the \"License\"); you may not use this file except in compliance with the License.\n",
    "Please acknowledge the authors when re-using this code and maintain this notice intact.\n",
    "Code written by Katja Ried\n",
    "\"\"\"\n",
    "\n",
    "import __future__\n",
    "import numpy as np\n",
    "import os# for current directory\n",
    "import sys # include paths to subfolders for agents and environments\n",
    "sys.path.insert(0, 'agents')\n",
    "sys.path.insert(0, 'environments')\n",
    "\n",
    "\"\"\"Import and initialise an environment and an agent.\n",
    "Different environments or agent types require different arguments, \n",
    "as specified in the docstring/help inside the respective files.\"\"\"\n",
    "\n",
    "#environment\n",
    "#import env_quantum_circuit_synthesis\n",
    "from qiskit import QuantumCircuit\n",
    "from qiskit.circuit.library import *\n",
    "n_qubit = 2\n",
    "allowed_gates = [\n",
    "    (HGate, [0]),\n",
    "    (HGate, [1]),\n",
    "    (XGate, [0]),\n",
    "    (XGate, [1]),\n",
    "    (ZGate, [0]),\n",
    "    (ZGate, [1]),\n",
    "    (CXGate, [0,1]),\n",
    "]\n",
    "target_circuit = QuantumCircuit(n_qubit)\n",
    "target_circuit.h([0,1])\n",
    "target_circuit.z([0,1])\n",
    "target_circuit.cz(0,1)\n",
    "target_circuit.h([0,1])\n",
    "env_config = (n_qubit, allowed_gates, target_circuit)\n",
    "#env = env_quantum_circuit_synthesis.TaskEnvironment(env_config)\n",
    "env = TaskEnvironment(env_config)\n",
    "#agent\n",
    "import ps_agent_flexible\n",
    "#parameters for the agent - explanations can be found in the comments inside the agent file\n",
    "ps_eta = 1\n",
    "num_actions, gamma_damping, eta_glow_damping, policy_type, beta_softmax = env.num_actions, 0, ps_eta, 'softmax', 1\n",
    "agent = ps_agent_flexible.FlexiblePSAgent(env.num_actions, gamma_damping, eta_glow_damping, policy_type, beta_softmax)"
   ]
  },
  {
   "cell_type": "code",
   "execution_count": 19,
   "metadata": {},
   "outputs": [
    {
     "data": {
      "text/plain": [
       "'OPENQASM 2.0;\\ninclude \"qelib1.inc\";\\nqreg q[2];\\nh q[0];\\nh q[1];\\nz q[0];\\nz q[1];\\ncz q[0],q[1];\\nh q[0];\\nh q[1];\\n'"
      ]
     },
     "execution_count": 19,
     "metadata": {},
     "output_type": "execute_result"
    }
   ],
   "source": [
    "target_circuit.qasm(formatted=False)"
   ]
  },
  {
   "cell_type": "code",
   "execution_count": 20,
   "metadata": {},
   "outputs": [
    {
     "data": {
      "text/html": [
       "<pre style=\"word-wrap: normal;white-space: pre;background: #fff0;line-height: 1.1;font-family: &quot;Courier New&quot;,Courier,monospace\">     ┌───┐┌───┐   ┌───┐\n",
       "q_0: ┤ H ├┤ Z ├─■─┤ H ├\n",
       "     ├───┤├───┤ │ ├───┤\n",
       "q_1: ┤ H ├┤ Z ├─■─┤ H ├\n",
       "     └───┘└───┘   └───┘</pre>"
      ],
      "text/plain": [
       "     ┌───┐┌───┐   ┌───┐\n",
       "q_0: ┤ H ├┤ Z ├─■─┤ H ├\n",
       "     ├───┤├───┤ │ ├───┤\n",
       "q_1: ┤ H ├┤ Z ├─■─┤ H ├\n",
       "     └───┘└───┘   └───┘"
      ]
     },
     "execution_count": 20,
     "metadata": {},
     "output_type": "execute_result"
    }
   ],
   "source": [
    "target_circuit.draw()"
   ]
  },
  {
   "cell_type": "code",
   "execution_count": 21,
   "metadata": {},
   "outputs": [
    {
     "ename": "UnboundLocalError",
     "evalue": "local variable 'trial_finished' referenced before assignment",
     "output_type": "error",
     "traceback": [
      "\u001b[1;31m---------------------------------------------------------------------------\u001b[0m",
      "\u001b[1;31mUnboundLocalError\u001b[0m                         Traceback (most recent call last)",
      "\u001b[1;32m<ipython-input-21-815fbb945353>\u001b[0m in \u001b[0;36m<module>\u001b[1;34m\u001b[0m\n\u001b[0;32m     20\u001b[0m         \u001b[1;31m#This is where the heart of the interaction takes place\u001b[0m\u001b[1;33m\u001b[0m\u001b[1;33m\u001b[0m\u001b[1;33m\u001b[0m\u001b[0m\n\u001b[0;32m     21\u001b[0m         \u001b[0maction\u001b[0m \u001b[1;33m=\u001b[0m \u001b[0magent\u001b[0m\u001b[1;33m.\u001b[0m\u001b[0mdeliberate_and_learn\u001b[0m\u001b[1;33m(\u001b[0m\u001b[0mdiscretized_observation\u001b[0m\u001b[1;33m,\u001b[0m \u001b[0mreward\u001b[0m\u001b[1;33m)\u001b[0m\u001b[1;33m\u001b[0m\u001b[1;33m\u001b[0m\u001b[0m\n\u001b[1;32m---> 22\u001b[1;33m         \u001b[0mdiscretized_observation\u001b[0m\u001b[1;33m,\u001b[0m \u001b[0mreward\u001b[0m\u001b[1;33m,\u001b[0m \u001b[0mdone\u001b[0m \u001b[1;33m=\u001b[0m \u001b[0menv\u001b[0m\u001b[1;33m.\u001b[0m\u001b[0mmove\u001b[0m\u001b[1;33m(\u001b[0m\u001b[0maction\u001b[0m\u001b[1;33m)\u001b[0m\u001b[1;33m\u001b[0m\u001b[1;33m\u001b[0m\u001b[0m\n\u001b[0m\u001b[0;32m     23\u001b[0m         \u001b[0mreward_trial\u001b[0m \u001b[1;33m+=\u001b[0m \u001b[0mreward\u001b[0m\u001b[1;33m\u001b[0m\u001b[1;33m\u001b[0m\u001b[0m\n\u001b[0;32m     24\u001b[0m         \u001b[1;32mif\u001b[0m \u001b[0mdone\u001b[0m\u001b[1;33m:\u001b[0m\u001b[1;33m\u001b[0m\u001b[1;33m\u001b[0m\u001b[0m\n",
      "\u001b[1;32m<ipython-input-17-7412ad8a081e>\u001b[0m in \u001b[0;36mmove\u001b[1;34m(self, action_index)\u001b[0m\n\u001b[0;32m     93\u001b[0m             \u001b[0mself\u001b[0m\u001b[1;33m.\u001b[0m\u001b[0mcurrent_circuit\u001b[0m \u001b[1;33m=\u001b[0m \u001b[0mQuantumCircuit\u001b[0m\u001b[1;33m(\u001b[0m\u001b[0mself\u001b[0m\u001b[1;33m.\u001b[0m\u001b[0mn_qubit\u001b[0m\u001b[1;33m)\u001b[0m\u001b[1;33m\u001b[0m\u001b[1;33m\u001b[0m\u001b[0m\n\u001b[0;32m     94\u001b[0m             \u001b[0mtrial_finished\u001b[0m \u001b[1;33m=\u001b[0m \u001b[1;32mTrue\u001b[0m\u001b[1;33m\u001b[0m\u001b[1;33m\u001b[0m\u001b[0m\n\u001b[1;32m---> 95\u001b[1;33m         \u001b[1;32mreturn\u001b[0m \u001b[0mself\u001b[0m\u001b[1;33m.\u001b[0m\u001b[0mcurrent_circuit\u001b[0m\u001b[1;33m.\u001b[0m\u001b[0mqasm\u001b[0m\u001b[1;33m(\u001b[0m\u001b[0mformatted\u001b[0m\u001b[1;33m=\u001b[0m\u001b[1;32mFalse\u001b[0m\u001b[1;33m)\u001b[0m\u001b[1;33m,\u001b[0m \u001b[0mreward\u001b[0m\u001b[1;33m,\u001b[0m \u001b[0mtrial_finished\u001b[0m\u001b[1;33m\u001b[0m\u001b[1;33m\u001b[0m\u001b[0m\n\u001b[0m\u001b[0;32m     96\u001b[0m \u001b[1;33m\u001b[0m\u001b[0m\n\u001b[0;32m     97\u001b[0m     \u001b[1;32mdef\u001b[0m \u001b[0mget_circuit\u001b[0m\u001b[1;33m(\u001b[0m\u001b[0mself\u001b[0m\u001b[1;33m)\u001b[0m\u001b[1;33m:\u001b[0m\u001b[1;33m\u001b[0m\u001b[1;33m\u001b[0m\u001b[0m\n",
      "\u001b[1;31mUnboundLocalError\u001b[0m: local variable 'trial_finished' referenced before assignment"
     ]
    }
   ],
   "source": [
    "\"\"\"Initialise and run interaction\"\"\"\n",
    "#set number of trials and maximum number of steps in each trial\n",
    "num_trials = 100\n",
    "max_steps_per_trial = 100 #This doesn't actually matter for invasion_game, which ends every trial after a single step\n",
    "\n",
    "#initialise a record of performance\n",
    "learning_curve = np.zeros(num_trials)\n",
    "step_curve = np.zeros(num_trials)\n",
    "reward = 0 #temporarily stores the reward for the most recent action\n",
    "\n",
    "# save circuit found\n",
    "saved_circuit = None\n",
    "min_step = max_steps_per_trial\n",
    "\n",
    "\n",
    "for i_trial in range(num_trials):\n",
    "    reward_trial = 0 #additive counter of the total rewards earned during the current trial\n",
    "    discretized_observation = env.reset()\n",
    "    for t in range(max_steps_per_trial):\n",
    "        #This is where the heart of the interaction takes place\n",
    "        action = agent.deliberate_and_learn(discretized_observation, reward)\n",
    "        discretized_observation, reward, done = env.move(action)\n",
    "        reward_trial += reward\n",
    "        if done:\n",
    "            if t < min_step:\n",
    "                saved_circuit = QuantumCircuit.from_qasm_str(discretized_observation)\n",
    "                min_step = t\n",
    "            break\n",
    "    learning_curve[i_trial] = float(reward_trial)/(t+1)\n",
    "    step_curve[i_trial] = (t+1)\n"
   ]
  },
  {
   "cell_type": "code",
   "execution_count": null,
   "metadata": {},
   "outputs": [],
   "source": [
    "saved_circuit.draw()"
   ]
  },
  {
   "cell_type": "code",
   "execution_count": 9,
   "metadata": {},
   "outputs": [
    {
     "data": {
      "image/png": "[encoded data removed]",
      "text/plain": [
       "<Figure size 432x288 with 1 Axes>"
      ]
     },
     "metadata": {
      "needs_background": "light"
     },
     "output_type": "display_data"
    },
    {
     "data": {
      "image/png": "[encoded data removed]",
      "text/plain": [
       "<Figure size 432x288 with 1 Axes>"
      ]
     },
     "metadata": {
      "needs_background": "light"
     },
     "output_type": "display_data"
    }
   ],
   "source": [
    "\"\"\"Return results\"\"\"\n",
    "import matplotlib.pyplot as plt\n",
    "plt.title(\"Reward-Trial Curve\")\n",
    "plt.plot(learning_curve)\n",
    "plt.show()\n",
    "plt.title(\"Step-Trial Curve\")\n",
    "plt.plot(step_curve)\n",
    "plt.show()"
   ]
  },
  {
   "cell_type": "code",
   "execution_count": 76,
   "metadata": {},
   "outputs": [
    {
     "data": {
      "text/plain": [
       "<qiskit.circuit.quantumcircuit.QuantumCircuit at 0x2a0734c1fd0>"
      ]
     },
     "execution_count": 76,
     "metadata": {},
     "output_type": "execute_result"
    }
   ],
   "source": [
    "env.get_circuit()"
   ]
  },
  {
   "cell_type": "code",
   "execution_count": 77,
   "metadata": {},
   "outputs": [
    {
     "data": {
      "text/html": [
       "<pre style=\"word-wrap: normal;white-space: pre;background: #fff0;line-height: 1.1;font-family: &quot;Courier New&quot;,Courier,monospace\">     ┌───┐     \n",
       "q_0: ┤ H ├──■──\n",
       "     └───┘┌─┴─┐\n",
       "q_1: ─────┤ X ├\n",
       "          └───┘</pre>"
      ],
      "text/plain": [
       "     ┌───┐     \n",
       "q_0: ┤ H ├──■──\n",
       "     └───┘┌─┴─┐\n",
       "q_1: ─────┤ X ├\n",
       "          └───┘"
      ]
     },
     "execution_count": 77,
     "metadata": {},
     "output_type": "execute_result"
    }
   ],
   "source": [
    "\"\"\"\n",
    "test append with gate can work\n",
    "\"\"\"\n",
    "qc = QuantumCircuit(2) \n",
    "gates = [HGate, CXGate]\n",
    "qc.append(gates[0](), [0])\n",
    "qc.append(gates[1](), [0,1])\n",
    "qc.draw()"
   ]
  },
  {
   "cell_type": "code",
   "execution_count": null,
   "metadata": {},
   "outputs": [],
   "source": []
  },
  {
   "cell_type": "code",
   "execution_count": null,
   "metadata": {},
   "outputs": [],
   "source": []
  },
  {
   "cell_type": "code",
   "execution_count": null,
   "metadata": {},
   "outputs": [],
   "source": []
  }
 ],
 "metadata": {
  "kernelspec": {
   "display_name": "Python 3",
   "language": "python",
   "name": "python3"
  },
  "language_info": {
   "codemirror_mode": {
    "name": "ipython",
    "version": 3
   },
   "file_extension": ".py",
   "mimetype": "text/x-python",
   "name": "python",
   "nbconvert_exporter": "python",
   "pygments_lexer": "ipython3",
   "version": "3.8.7"
  }
 },
 "nbformat": 4,
 "nbformat_minor": 4
}
